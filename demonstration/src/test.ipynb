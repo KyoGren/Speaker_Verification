{
 "cells": [
  {
   "cell_type": "code",
   "execution_count": 5,
   "metadata": {},
   "outputs": [],
   "source": [
    "from pygame.mixer import music, init\n",
    "\n",
    "def show_audio(audio_file):\n",
    "    init()  # Initialize the mixer module\n",
    "    music.load(audio_file)\n",
    "    music.play(loops=0)\n",
    "show_audio(\"/home/kyogren/THESIS/Speaker_Verification_Final/demonstration/data/tdsv/enrollment_audio.wav\")"
   ]
  }
 ],
 "metadata": {
  "kernelspec": {
   "display_name": "Python 3",
   "language": "python",
   "name": "python3"
  },
  "language_info": {
   "codemirror_mode": {
    "name": "ipython",
    "version": 3
   },
   "file_extension": ".py",
   "mimetype": "text/x-python",
   "name": "python",
   "nbconvert_exporter": "python",
   "pygments_lexer": "ipython3",
   "version": "3.9.19"
  }
 },
 "nbformat": 4,
 "nbformat_minor": 2
}
